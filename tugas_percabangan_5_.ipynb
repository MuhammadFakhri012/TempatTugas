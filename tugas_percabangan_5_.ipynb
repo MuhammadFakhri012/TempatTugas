{
  "nbformat": 4,
  "nbformat_minor": 0,
  "metadata": {
    "colab": {
      "provenance": [],
      "authorship_tag": "ABX9TyOL45xgz4XH4yltPUQ1oBjv"
    },
    "kernelspec": {
      "name": "python3",
      "display_name": "Python 3"
    },
    "language_info": {
      "name": "python"
    }
  },
  "cells": [
    {
      "cell_type": "markdown",
      "source": [
        "#Tugas 1\n",
        " 1. Penentuan Diskon Berdasarkan Jumlah Pembelian\n",
        "Deskripsi:\n",
        "Sebuah toko memberikan diskon kepada pelanggan berdasarkan jumlah pembelian mereka. Aturan diskon adalah sebagai berikut:\n",
        "\n",
        "Pembelian di bawah Rp100.000 tidak mendapat diskon.\n",
        "Pembelian antara Rp100.000 - Rp500.000 mendapat diskon 10%.\n",
        "Pembelian di atas Rp500.000 mendapat diskon 20%.\n"
      ],
      "metadata": {
        "id": "-MZ-rwEphsxa"
      }
    },
    {
      "cell_type": "code",
      "source": [
        "#tugas 1\n",
        "a = int(input(\"masukan jumlah pembelian : \"))\n",
        "if a < 100000:\n",
        "  print(\"tidak mendapat diskon\")\n",
        "elif a >= 500000:\n",
        "  print(\"mendapat diskon 10%\")\n",
        "else:\n",
        "  print(\"mendapat diskon 20%\")"
      ],
      "metadata": {
        "colab": {
          "base_uri": "https://localhost:8080/"
        },
        "id": "7CqTZ0cMiS1x",
        "outputId": "32c5bff2-c0d9-4936-9599-e5563736eb5d"
      },
      "execution_count": 6,
      "outputs": [
        {
          "output_type": "stream",
          "name": "stdout",
          "text": [
            "masukan jumlah pembelian : 250000\n",
            "mendapat diskon 20%\n"
          ]
        }
      ]
    },
    {
      "cell_type": "markdown",
      "source": [
        "#tugas 2\n",
        "\n",
        " 2: Klasifikasi Umur\n",
        "Deskripsi:\n",
        "Anda diminta membuat program untuk mengelompokkan seseorang berdasarkan umur. Aturannya:\n",
        "\n",
        "Umur 0-12 tahun: Anak-anak\n",
        "Umur 13-17 tahun: Remaja\n",
        "Umur 18-64 tahun: Dewasa\n",
        "Umur 65 tahun ke atas: Lansia\n",
        "Tugas:\n",
        "\n",
        "Buat program yang menerima input umur.\n",
        "Gunakan percabangan untuk menentukan kategori usia.\n",
        "Tampilkan kategori usia berdasarkan aturan di atas.\n"
      ],
      "metadata": {
        "id": "kdDYVJ2skqQ7"
      }
    },
    {
      "cell_type": "code",
      "source": [
        "#tugas 2\n",
        "a = int(input(\"Masukkan umur: \"))\n",
        "if a <= 12:\n",
        "  print(\"anak-anak\")\n",
        "elif a <=17:\n",
        "  print(\"remaja\")\n",
        "elif a <=64:\n",
        "  print(\"dewasa\")\n",
        "else:\n",
        "  print(\"lansia\")\n"
      ],
      "metadata": {
        "colab": {
          "base_uri": "https://localhost:8080/"
        },
        "id": "tnAmSNBAl7BK",
        "outputId": "529b89d8-7d18-4282-eae6-4364c75c6d2c"
      },
      "execution_count": 8,
      "outputs": [
        {
          "output_type": "stream",
          "name": "stdout",
          "text": [
            "Masukkan umur: 15\n",
            "remaja\n"
          ]
        }
      ]
    },
    {
      "cell_type": "markdown",
      "source": [
        "#Tugas 3\n",
        "3: Penilaian Nilai Siswa\n",
        "Deskripsi:\n",
        "Sebuah sekolah memiliki standar penilaian sebagai berikut:\n",
        "\n",
        "Nilai 90-100: Sangat Baik\n",
        "Nilai 70-89: Baik\n",
        "Nilai 50-69: Cukup\n",
        "Nilai di bawah 50: Kurang\n",
        "Tugas:\n",
        "\n",
        "Buat program yang menerima input nilai dari pengguna.\n",
        "Tentukan kategori nilai sesuai standar di atas.\n",
        "Tampilkan hasil penilaian.\n"
      ],
      "metadata": {
        "id": "HKvsTJ4XmlvO"
      }
    },
    {
      "cell_type": "code",
      "source": [
        "#tugas 3\n",
        "a = int(input(\"Masukkan nilai siswa: \"))\n",
        "if a <= 100:\n",
        "  print(\"sangat baik\")\n",
        "elif a <=89:\n",
        "  print(\"baik\")\n",
        "elif a <=69:\n",
        "  print(\"cukup\")\n",
        "else:\n",
        "  print(\"kurang\")\n"
      ],
      "metadata": {
        "colab": {
          "base_uri": "https://localhost:8080/"
        },
        "id": "U4dmqG2xm2Kk",
        "outputId": "7ad1d4fe-6c74-42b8-a908-624a03998157"
      },
      "execution_count": 9,
      "outputs": [
        {
          "output_type": "stream",
          "name": "stdout",
          "text": [
            "Masukkan nilai siswa: 97\n",
            "sangat baik\n"
          ]
        }
      ]
    },
    {
      "cell_type": "markdown",
      "source": [
        "#tugas 4\n",
        "4: Pengecekan Tahun Kabisat\n",
        "Deskripsi:\n",
        "Anda diminta membuat program untuk menentukan apakah suatu tahun merupakan tahun kabisat. Aturannya:\n",
        "\n",
        "Tahun habis dibagi 4 adalah kabisat, kecuali tahun yang habis dibagi 100 tetapi tidak habis dibagi 400.\n",
        "Tugas:\n",
        "\n",
        "Buat program yang menerima input tahun dari pengguna.\n",
        "Gunakan percabangan untuk menentukan apakah tahun tersebut kabisat.\n",
        "Tampilkan hasilnya.\n"
      ],
      "metadata": {
        "id": "lxynrZBKnYYd"
      }
    },
    {
      "cell_type": "code",
      "source": [
        "#tugas4\n",
        "a = int(input(\"Masukkan tahun: \"))\n",
        "if a % 4 == 0:\n",
        "  if a % 100 == 0:\n",
        "    if a % 400 == 0:\n",
        "      print(\"tahun kabisat\")\n",
        "    else:\n",
        "      print(\"bukan tahun kabisat\")\n",
        "\n",
        "\n",
        "\n"
      ],
      "metadata": {
        "colab": {
          "base_uri": "https://localhost:8080/"
        },
        "id": "aOCVeADcnij6",
        "outputId": "2169c755-f6c6-4085-ee0b-daa3cc51b518"
      },
      "execution_count": 10,
      "outputs": [
        {
          "output_type": "stream",
          "name": "stdout",
          "text": [
            "Masukkan tahun: 1000\n",
            "bukan tahun kabisat\n"
          ]
        }
      ]
    },
    {
      "cell_type": "markdown",
      "source": [
        "#Tugas 5\n",
        "5: Kalkulator Sederhana\n",
        "Deskripsi:\n",
        "Buat kalkulator sederhana yang dapat melakukan operasi tambah, kurang, kali, dan bagi. Program akan meminta pengguna memasukkan dua angka dan memilih operasi.\n",
        "\n",
        "Tugas:\n",
        "\n",
        "Buat program yang meminta input dua angka dan jenis operasi (+, -, *, /).\n",
        "Gunakan percabangan untuk menentukan operasi yang dipilih dan lakukan perhitungan.\n",
        "Tampilkan hasilnya."
      ],
      "metadata": {
        "id": "82KI5yzooL8x"
      }
    },
    {
      "cell_type": "code",
      "source": [
        "#tugas 5\n",
        "a = int(input(\"Masukkan angka pertama: \"))\n",
        "b = int(input(\"Masukkan angka kedua: \"))\n",
        "c = input(\"Masukkan operasi: \")\n",
        "if c == \"+\":\n",
        "  print(a+b)\n",
        "elif c == \"-\":\n",
        "  print(a-b)\n",
        "elif c == \"*\":\n",
        "  print(a*b)\n"
      ],
      "metadata": {
        "colab": {
          "base_uri": "https://localhost:8080/"
        },
        "id": "yCrf726PoYSA",
        "outputId": "12f244fb-f62a-4780-a6d3-73e795a3c155"
      },
      "execution_count": 12,
      "outputs": [
        {
          "name": "stdout",
          "output_type": "stream",
          "text": [
            "Masukkan angka pertama: 5\n",
            "Masukkan angka kedua: 5\n",
            "Masukkan operasi: 25\n"
          ]
        }
      ]
    }
  ]
}