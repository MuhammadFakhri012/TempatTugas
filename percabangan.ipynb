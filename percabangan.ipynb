{
  "nbformat": 4,
  "nbformat_minor": 0,
  "metadata": {
    "colab": {
      "provenance": [],
      "authorship_tag": "ABX9TyOyofK6A9abTnstX4Ygmtp8"
    },
    "kernelspec": {
      "name": "python3",
      "display_name": "Python 3"
    },
    "language_info": {
      "name": "python"
    }
  },
  "cells": [
    {
      "cell_type": "code",
      "execution_count": null,
      "metadata": {
        "id": "1DKZxUwnXxY2"
      },
      "outputs": [],
      "source": []
    },
    {
      "cell_type": "markdown",
      "source": [
        "**PERCABANGAN**\n",
        "\n",
        "Percabangan adalah struktur dalam pemrograman yang memungkinkan program untuk membuat keputusan berdasarkan kondisi tertentu.\n",
        "\n",
        "**If**\n",
        "\n",
        "if adalah sebuah pernyataan dalam pemrograman yang digunakan untuk mengevaluasi suatu kondisi. Jika kondisi tersebut benar (true), maka blok kode yang terkait dengan if akan dijalankan.\n",
        "\n",
        "**Elif**\n",
        "\n",
        "elif adalah singkatan dari \"else if\" dan digunakan dalam pemrograman untuk memberikan alternatif tambahan dalam struktur percabangan.\n",
        "\n",
        "**Else**\n",
        "\n",
        "else adalah bagian dari struktur percabangan dalam pemrograman yang digunakan untuk menentukan aksi yang harus dilakukan jika semua kondisi sebelumnya (seperti yang ada di pernyataan if dan elif) tidak terpenuhi"
      ],
      "metadata": {
        "id": "KpJkjlzPdnwP"
      }
    },
    {
      "cell_type": "code",
      "source": [
        "#Contoh percabangan 1 kondisi\n",
        "\n",
        "umur = int(input(\"masukan umur: \"))\n",
        "if umur > 9:\n",
        "   print(\"masi muda\") #true"
      ],
      "metadata": {
        "colab": {
          "base_uri": "https://localhost:8080/"
        },
        "id": "eA-n_KaBfCKg",
        "outputId": "560284f4-2ef3-4af3-c1db-1675b39dc5ee"
      },
      "execution_count": null,
      "outputs": [
        {
          "output_type": "stream",
          "name": "stdout",
          "text": [
            "masukan umur: 15\n",
            "masi muda\n"
          ]
        }
      ]
    },
    {
      "cell_type": "code",
      "source": [
        "#Contoh percabangan 2 kondisi\n",
        "\n",
        "teman1 = 'regan'\n",
        "teman2 = 'noval'\n",
        "\n",
        "if teman1 != teman2:\n",
        "    print(\"teman yang baik\") #true\n",
        "else:\n",
        "    print(\"teman yang jahat\") #false"
      ],
      "metadata": {
        "colab": {
          "base_uri": "https://localhost:8080/"
        },
        "id": "_sab0i0LgHQ2",
        "outputId": "57b2057e-1f40-4b8d-8118-3b6a61ece6be"
      },
      "execution_count": null,
      "outputs": [
        {
          "output_type": "stream",
          "name": "stdout",
          "text": [
            "teman yang baik\n"
          ]
        }
      ]
    },
    {
      "cell_type": "code",
      "source": [
        "#Contoh percabangan 3 kondisi\n",
        "\n",
        "umur = int(input(\"Silahkan masukan umur anda: \"))\n",
        "if umur <= 8:\n",
        "   print(\"anda masi anak anak\") #true\n",
        "elif umur <= 18:\n",
        "   print(\"anda masih remaja\") #true&false\n",
        "else:\n",
        "   print(\"anda sudah dewasa\") #false"
      ],
      "metadata": {
        "colab": {
          "base_uri": "https://localhost:8080/"
        },
        "id": "ZQsRP7YCgeBl",
        "outputId": "efa29847-8822-4941-fa8f-f43cae021e1e"
      },
      "execution_count": null,
      "outputs": [
        {
          "output_type": "stream",
          "name": "stdout",
          "text": [
            "Silahkan masukan umur anda: 25\n",
            "anda sudah dewasa\n"
          ]
        }
      ]
    },
    {
      "cell_type": "code",
      "source": [
        "#Contoh percabangan 4 kondisi\n",
        "\n",
        "nilai = 100\n",
        "\n",
        "if nilai >= 90:\n",
        "    print(\"Predikat: A (sangat baik)\") #true\n",
        "elif nilai >= 75:\n",
        "    print(\"Predikat: B (baik)\") #true&false\n",
        "elif nilai >= 60:\n",
        "    print(\"Predikat: C (cukup)\") #true false\n",
        "else:\n",
        "    print(\"Predikat: D (tidak lulus)\") #false"
      ],
      "metadata": {
        "colab": {
          "base_uri": "https://localhost:8080/"
        },
        "id": "lPPM6vLZgzDT",
        "outputId": "461fc487-0cdb-4e32-a993-4e034f1d5f7f"
      },
      "execution_count": null,
      "outputs": [
        {
          "output_type": "stream",
          "name": "stdout",
          "text": [
            "Predikat: A (sangat baik)\n"
          ]
        }
      ]
    },
    {
      "cell_type": "code",
      "source": [
        "#Contoh percabangan 5 kondisi\n",
        "suhu = int(input(\"suhu cuaca saat ini: \"))\n",
        "if suhu >= 40:\n",
        "    print(\"sangat panas\") #true\n",
        "elif suhu >= 32:\n",
        "    print(\"panas\") #true&false\n",
        "elif suhu >= 20:\n",
        "    print(\"hangat\") #true&false\n",
        "elif suhu >= 10:\n",
        "    print(\"sejuk\") #true&false\n",
        "else:\n",
        "    print(\"dingin\") #false"
      ],
      "metadata": {
        "colab": {
          "base_uri": "https://localhost:8080/"
        },
        "id": "8vN2JcNrhFx9",
        "outputId": "fc2610a7-99ba-4b56-c81d-abeba75c902c"
      },
      "execution_count": null,
      "outputs": [
        {
          "output_type": "stream",
          "name": "stdout",
          "text": [
            "suhu cuaca saat ini: 33\n",
            "panas\n"
          ]
        }
      ]
    },
    {
      "cell_type": "code",
      "source": [
        "#Contoh percabangan 6 kondisi\n",
        "\n",
        "tingkat_polusi_jakarta= 177\n",
        "\n",
        "if tingkat_polusi <= 50:\n",
        "    print(\"Baik\") #true\n",
        "elif tingkat_polusi <= 100:\n",
        "    print(\"Sedang\") #true&false\n",
        "elif tingkat_polusi <= 150:\n",
        "    print(\"Tidak Sehat bagi Kelompok Sensitif\") #true&false\n",
        "elif tingkat_polusi <= 200:\n",
        "    print(\"Tidak Sehat\") #true&false\n",
        "elif tingkat_polusi <= 300:\n",
        "    print(\"Sangat Tidak Sehat\") #false\n",
        "else:\n",
        "\n",
        "    print(\"Berbahaya\")"
      ],
      "metadata": {
        "colab": {
          "base_uri": "https://localhost:8080/",
          "height": 211
        },
        "id": "LCCTtPiti2Qx",
        "outputId": "818bf427-a538-430f-8f02-734db4e52312"
      },
      "execution_count": null,
      "outputs": [
        {
          "output_type": "error",
          "ename": "NameError",
          "evalue": "name 'tingkat_polusi' is not defined",
          "traceback": [
            "\u001b[0;31m---------------------------------------------------------------------------\u001b[0m",
            "\u001b[0;31mNameError\u001b[0m                                 Traceback (most recent call last)",
            "\u001b[0;32m<ipython-input-16-559d1b0dc783>\u001b[0m in \u001b[0;36m<cell line: 5>\u001b[0;34m()\u001b[0m\n\u001b[1;32m      3\u001b[0m \u001b[0mtingkat_polusi_jakarta\u001b[0m\u001b[0;34m=\u001b[0m \u001b[0;36m177\u001b[0m\u001b[0;34m\u001b[0m\u001b[0;34m\u001b[0m\u001b[0m\n\u001b[1;32m      4\u001b[0m \u001b[0;34m\u001b[0m\u001b[0m\n\u001b[0;32m----> 5\u001b[0;31m \u001b[0;32mif\u001b[0m \u001b[0mtingkat_polusi\u001b[0m \u001b[0;34m<=\u001b[0m \u001b[0;36m50\u001b[0m\u001b[0;34m:\u001b[0m\u001b[0;34m\u001b[0m\u001b[0;34m\u001b[0m\u001b[0m\n\u001b[0m\u001b[1;32m      6\u001b[0m     \u001b[0mprint\u001b[0m\u001b[0;34m(\u001b[0m\u001b[0;34m\"Baik\"\u001b[0m\u001b[0;34m)\u001b[0m \u001b[0;31m#true\u001b[0m\u001b[0;34m\u001b[0m\u001b[0;34m\u001b[0m\u001b[0m\n\u001b[1;32m      7\u001b[0m \u001b[0;32melif\u001b[0m \u001b[0mtingkat_polusi\u001b[0m \u001b[0;34m<=\u001b[0m \u001b[0;36m100\u001b[0m\u001b[0;34m:\u001b[0m\u001b[0;34m\u001b[0m\u001b[0;34m\u001b[0m\u001b[0m\n",
            "\u001b[0;31mNameError\u001b[0m: name 'tingkat_polusi' is not defined"
          ]
        }
      ]
    }
  ]
}